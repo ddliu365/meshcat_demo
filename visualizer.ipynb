{
 "cells": [
  {
   "cell_type": "code",
   "execution_count": null,
   "id": "7ee8cba0-9ded-42bc-acb1-899e4a001235",
   "metadata": {},
   "outputs": [],
   "source": [
    "import os\n",
    "import numpy as np\n",
    "import time\n",
    "\n",
    "import meshcat\n",
    "from meshcat.servers.zmqserver import start_zmq_server_as_subprocess\n",
    "import meshcat.transformations as tf\n",
    "\n",
    "import pinocchio as pin\n",
    "\n",
    "server_args = []\n",
    "package_dirs = './'\n",
    "proc, zmq_url, web_url = start_zmq_server_as_subprocess(server_args=server_args)\n",
    "\n",
    "viewer = meshcat.Visualizer(zmq_url=zmq_url)"
   ]
  },
  {
   "cell_type": "code",
   "execution_count": null,
   "id": "f35420b2-c406-4cee-9be4-eb623e24517a",
   "metadata": {},
   "outputs": [],
   "source": [
    "viewer['dinosaur1'].set_object(meshcat.geometry.StlMeshGeometry.from_file(os.path.join(package_dirs, \"dinosaur.stl\")),\\\n",
    "                              meshcat.geometry.MeshLambertMaterial(\n",
    "                              color=0xff22dd))\n",
    "viewer['dinosaur2'].set_object(meshcat.geometry.StlMeshGeometry.from_file(os.path.join(package_dirs, \"dinosaur.stl\")),\\\n",
    "                              meshcat.geometry.MeshLambertMaterial(\n",
    "                              color=0xffdd22))"
   ]
  },
  {
   "cell_type": "code",
   "execution_count": null,
   "id": "1bf061c7-2e34-4b4a-9d48-511ba79d80d4",
   "metadata": {},
   "outputs": [],
   "source": [
    "dt = 1/120.\n",
    "dat = np.loadtxt(open('data.csv', \"rb\"), delimiter=\",\", dtype=float, skiprows=1)\n",
    "N = dat.shape[0]\n",
    "quat_dat = [list(dat[i, 3:]) for i in range(N)]\n",
    "quat = [pin.Quaternion(np.matrix(quat_dat[i]).T).normalized() for i in range(N)]"
   ]
  },
  {
   "cell_type": "code",
   "execution_count": null,
   "id": "5f38853c-dfa9-4ae1-95dc-6634041ed27a",
   "metadata": {},
   "outputs": [],
   "source": [
    "for i in range(N):\n",
    "    rot_tf = np.identity(4)\n",
    "    rot_tf[:3,:3] = quat[i].toRotationMatrix().dot(pin.rpy.rotate('x', np.pi/2)).dot(pin.rpy.rotate('z', np.pi))\n",
    "    tz = tf.translation_matrix(dat[i, :3])\n",
    "    viewer['dinosaur2'].set_transform(tz.dot(rot_tf))\n",
    "    time.sleep(dt/2)"
   ]
  },
  {
   "cell_type": "code",
   "execution_count": null,
   "id": "3de8a6f6-72bd-414e-8f3e-27b592237f8e",
   "metadata": {},
   "outputs": [],
   "source": []
  }
 ],
 "metadata": {
  "kernelspec": {
   "display_name": "Python 3 (ipykernel)",
   "language": "python",
   "name": "python3"
  },
  "language_info": {
   "codemirror_mode": {
    "name": "ipython",
    "version": 3
   },
   "file_extension": ".py",
   "mimetype": "text/x-python",
   "name": "python",
   "nbconvert_exporter": "python",
   "pygments_lexer": "ipython3",
   "version": "3.8.10"
  }
 },
 "nbformat": 4,
 "nbformat_minor": 5
}
